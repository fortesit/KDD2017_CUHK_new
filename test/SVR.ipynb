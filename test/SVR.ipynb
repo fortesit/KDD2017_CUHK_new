{
 "cells": [
  {
   "cell_type": "code",
   "execution_count": 117,
   "metadata": {
    "collapsed": false
   },
   "outputs": [],
   "source": [
    "import pandas as pd\n",
    "from sklearn.svm import SVR\n",
    "import numpy as np\n",
    "\n",
    "def mape(y_pred, y_true):\n",
    "    return np.mean(np.abs((y_true - y_pred) / y_true)) * 100"
   ]
  },
  {
   "cell_type": "code",
   "execution_count": 297,
   "metadata": {
    "collapsed": false
   },
   "outputs": [],
   "source": [
    "dataset = pd.read_csv(\"../data/preprocessed_input_interpolate_20min.csv\")\n",
    "#dataset['date'] = pd.to_datetime(dataset['date'])\n",
    "del dataset['date']\n",
    "\n",
    "# Only select columns which are useful\n",
    "# For (1, 0, 'tot')\n",
    "selected_col = [\"hour\", \"precipitation\", \"dayofweek\", \"is_holiday\", \"hour\", \"hour\", \"hour\", \"hour\", \"(3, 1, 'privatecar')\", 'hour', 'dayofweek', 'hour', 'is_holiday', 'hour', 'hour']\n",
    "# For (1, 1, 'tot')\n",
    "#selected_col = [\"hour\", \"precipitation\", \"dayofweek\", \"is_holiday\", \"(1, 0, 'cargocar')\", \"(1, 0, 'cargocar')\", \"(1, 0, 'cargocar')\", \"hour\", \"(1, 0, 'cargocar')\", \"(1, 0, 'cargocar')\", \"(1, 0, 'cargocar')\", \"hour\", \"hour\", \"(1, 0, 'cargocar')\", \"hour\", \"(1, 0, 'cargocar')\", \"(1, 0, 'cargocar')\", \"precipitation\", \"(1, 0, 'cargocar')\", \"(1, 0, 'cargocar')\", \"hour\", \"(1, 0, 'cargocar')\", \"(1, 0, 'cargocar')\", \"precipitation\", \"(1, 0, 'cargocar')\", \"hour\", \"(1, 0, 'cargocar')\", \"(1, 0, 'cargocar')\", \"hour\", \"hour\", \"precipitation\"]\n",
    "#selected_col = [\"hour\", \"precipitation\", \"dayofweek\", \"is_holiday\"]\n",
    "\n",
    "# Target predict column\n",
    "predict_col = \"(1, 0, 'tot')\"\n",
    "\n",
    "# Time shift backward for predict_col\n",
    "dataset_shift_1 = dataset.shift(periods=1)[predict_col].fillna(method=\"bfill\")\n",
    "dataset_shift_2 = dataset.shift(periods=2)[predict_col].fillna(method=\"bfill\")\n",
    "dataset_shift_6 = dataset.shift(periods=6)[predict_col].fillna(method=\"bfill\")\n",
    "\n",
    "# Add time shifted predict_col to dataset\n",
    "dataset = dataset.assign(predict_shift_1=pd.Series(dataset_shift_1).values)\n",
    "dataset = dataset.assign(predict_shift_2=pd.Series(dataset_shift_2).values)\n",
    "dataset = dataset.assign(predict_shift_6=pd.Series(dataset_shift_6).values)\n",
    "#selected_col.append(predict_col)\n",
    "#selected_col.append(\"predict_shift_1\")\n",
    "#selected_col.append(\"predict_shift_2\")\n",
    "#selected_col.append(\"predict_shift_6\")\n",
    "\n",
    "training_set = dataset[:-24*3*7]\n",
    "predict_set = dataset[-24*3*7:][lambda df : ((df.hour >= 8) & (df.hour < 10)) | ((df.hour >= 17) & (df.hour < 19))]\n",
    "#training_set[selected_col]\n",
    "#predict_set[selected_col]"
   ]
  },
  {
   "cell_type": "code",
   "execution_count": 298,
   "metadata": {
    "collapsed": false
   },
   "outputs": [
    {
     "name": "stdout",
     "output_type": "stream",
     "text": [
      "19.49573069464429\n"
     ]
    }
   ],
   "source": [
    "clf = SVR(C=1.0, epsilon=0.1)\n",
    "clf.fit(training_set[selected_col], training_set[predict_col])\n",
    "base_score = mape(clf.predict(predict_set[selected_col]), predict_set[predict_col])\n",
    "print(base_score)"
   ]
  },
  {
   "cell_type": "code",
   "execution_count": 299,
   "metadata": {
    "collapsed": false
   },
   "outputs": [
    {
     "name": "stdout",
     "output_type": "stream",
     "text": [
      "(1, 0, 'tot') 13.513572217888756\n",
      "(1, 0, 'unknowncar') 13.513572217888756\n"
     ]
    }
   ],
   "source": [
    "clf = SVR(C=1.0, epsilon=0.2)\n",
    "for col in training_set.columns:\n",
    "    selected_col.append(col)\n",
    "    clf.fit(training_set[selected_col], training_set[predict_col])\n",
    "    score = mape(clf.predict(predict_set[selected_col]), predict_set[predict_col])\n",
    "    #score = clf.score(predict_set[selected_col], predict_set[predict_col])\n",
    "    if score < base_score:\n",
    "        print(col, score)\n",
    "    selected_col.pop()"
   ]
  }
 ],
 "metadata": {
  "kernelspec": {
   "display_name": "Python 3",
   "language": "python",
   "name": "python3"
  },
  "language_info": {
   "codemirror_mode": {
    "name": "ipython",
    "version": 3
   },
   "file_extension": ".py",
   "mimetype": "text/x-python",
   "name": "python",
   "nbconvert_exporter": "python",
   "pygments_lexer": "ipython3",
   "version": "3.6.0"
  }
 },
 "nbformat": 4,
 "nbformat_minor": 2
}
