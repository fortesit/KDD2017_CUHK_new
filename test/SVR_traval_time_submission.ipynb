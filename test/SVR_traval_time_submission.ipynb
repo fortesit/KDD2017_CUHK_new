{
 "cells": [
  {
   "cell_type": "code",
   "execution_count": 39,
   "metadata": {
    "collapsed": false,
    "deletable": true,
    "editable": true
   },
   "outputs": [],
   "source": [
    "import pandas as pd\n",
    "from sklearn.svm import SVR\n",
    "from sklearn.svm import NuSVR\n",
    "import numpy as np"
   ]
  },
  {
   "cell_type": "code",
   "execution_count": 58,
   "metadata": {
    "collapsed": true
   },
   "outputs": [],
   "source": [
    "training_set = pd.read_csv(\"../data/preprocessed_input_interpolate_20min_phase1and2_train.csv\")\n",
    "predict_set = pd.read_csv(\"../data/preprocessed_input_interpolate_20min_phase2_test.csv\")\n",
    "predict_set = predict_set[lambda df : ((df.hour >= 6) & (df.hour < 8)) | ((df.hour >= 15) & (df.hour < 17))]\n",
    "training_set = training_set.set_index(['date'])\n",
    "predict_set = predict_set.set_index(['date'])\n",
    "\n",
    "# Only select columns which are useful\n",
    "selected_col = ['hour', 'wind_speed']\n",
    "\n",
    "# Target predict columns\n",
    "predict_col = \"('C', 3)\"\n",
    "int_tol_id = \"C,3,\" # For output csv\n",
    "predict_col_shifted = \"predict_shift_6\"\n",
    "\n",
    "# Time shift backward for predict_col\n",
    "training_set_shift_6 = training_set.shift(periods=-6)[predict_col].fillna(method=\"ffill\")\n",
    "\n",
    "# Add time shifted predict_col to dataset\n",
    "training_set = training_set.assign(predict_shift_6=pd.Series(training_set_shift_6).values)"
   ]
  },
  {
   "cell_type": "code",
   "execution_count": 59,
   "metadata": {
    "collapsed": false,
    "deletable": true,
    "editable": true
   },
   "outputs": [],
   "source": [
    "clf = SVR(C=1.0, epsilon=0.1)\n",
    "clf.fit(training_set[selected_col], training_set[predict_col_shifted])\n",
    "final_predicted = clf.predict(predict_set[selected_col])"
   ]
  },
  {
   "cell_type": "code",
   "execution_count": 60,
   "metadata": {
    "collapsed": true,
    "deletable": true,
    "editable": true
   },
   "outputs": [],
   "source": [
    "f = open('SVR_' + predict_col + '.csv', 'w')\n",
    "\n",
    "csv_context = \"\"\n",
    "# csv_context += \"intersection_id,tollgate_id,time_window,avg_travel_time\\n\"\n",
    "day = [\"25\", \"26\", \"27\", \"28\", \"29\", \"30\", \"31\"]\n",
    "hour = [\"08\", \"09\", \"17\", \"18\"]\n",
    "add_hour = [\"10\", \"19\"]\n",
    "minute = [\"00\", \"20\", \"40\"]\n",
    "d, h, m = 0, 0, 0\n",
    "row_num = 0\n",
    "for row in final_predicted:\n",
    "    csv_context += int_tol_id + \"\\\"[2016-10-\" + day[d] + \" \" + hour[h] + \":\" + minute[m] + \":00,2016-10-\"\n",
    "    if row_num != 0 and row_num % 6 == 2:\n",
    "        h = (h + 1) % len(hour)\n",
    "    m = (m + 1) % len(minute)\n",
    "    hour_text = add_hour[int((h - 1) / 2)] if (row_num != 0 and row_num % 6 == 5) else hour[h]\n",
    "    csv_context += day[d] + \" \" + hour_text + \":\" + minute[m] + \":00)\" \"\\\",\" + str(row) + \"\\n\"\n",
    "    if row_num != 0 and row_num % 6 == 5:\n",
    "        h = (h + 1) % len(hour)\n",
    "    if row_num != 0 and row_num % 12 == 11:\n",
    "        d = (d + 1) % len(day)\n",
    "    row_num += 1\n",
    "\n",
    "f.write(csv_context)\n",
    "f.close()"
   ]
  },
  {
   "cell_type": "code",
   "execution_count": null,
   "metadata": {
    "collapsed": true,
    "deletable": true,
    "editable": true
   },
   "outputs": [],
   "source": []
  }
 ],
 "metadata": {
  "kernelspec": {
   "display_name": "Python 3",
   "language": "python",
   "name": "python3"
  },
  "language_info": {
   "codemirror_mode": {
    "name": "ipython",
    "version": 3
   },
   "file_extension": ".py",
   "mimetype": "text/x-python",
   "name": "python",
   "nbconvert_exporter": "python",
   "pygments_lexer": "ipython3",
   "version": "3.6.0"
  }
 },
 "nbformat": 4,
 "nbformat_minor": 2
}
